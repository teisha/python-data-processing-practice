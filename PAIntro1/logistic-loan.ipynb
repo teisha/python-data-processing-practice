{
 "cells": [
  {
   "cell_type": "markdown",
   "id": "160737dd",
   "metadata": {},
   "source": [
    "# Logistic Regression Using Python\n",
    "\n",
    "## Example: Acceptance of Personal Loan\n",
    "\n",
    "\n",
    "After partitioning the data into training (60%) and validation (40%) sets, we fit a logistic regression model.\n"
   ]
  },
  {
   "cell_type": "markdown",
   "id": "8970c70f",
   "metadata": {},
   "source": [
    "## Import required packages\n"
   ]
  },
  {
   "cell_type": "code",
   "execution_count": 1,
   "id": "e14c5f2e",
   "metadata": {},
   "outputs": [
    {
     "name": "stdout",
     "output_type": "stream",
     "text": [
      "no display found. Using non-interactive Agg backend\n"
     ]
    }
   ],
   "source": [
    "\n",
    "\n",
    "from pathlib import Path\n",
    "\n",
    "import numpy as np\n",
    "import pandas as pd\n",
    "from sklearn.linear_model import LogisticRegression, LogisticRegressionCV\n",
    "from sklearn.model_selection import train_test_split\n",
    "import statsmodels.api as sm\n",
    "from mord import LogisticIT\n",
    "import matplotlib.pylab as plt\n",
    "import seaborn as sns\n",
    "import dmba\n",
    "from dmba import classificationSummary, gainsChart, liftChart\n",
    "from dmba.metric import AIC_score\n"
   ]
  },
  {
   "cell_type": "markdown",
   "id": "8efb8660",
   "metadata": {},
   "source": [
    "## Table 10.2\n",
    "Load the `UniversalBank.csv` dataset. The columns `ID` and `ZIP Code` are not relevant for model building and therefore removed. Treat Education as categorical"
   ]
  },
  {
   "cell_type": "code",
   "execution_count": 2,
   "id": "3c5b53ff-e9d6-45b3-9b95-10727cf9379d",
   "metadata": {},
   "outputs": [
    {
     "name": "stdout",
     "output_type": "stream",
     "text": [
      "Index(['Age', 'Experience', 'Income', 'Family', 'CCAvg', 'Education',\n",
      "       'Mortgage', 'Personal_Loan', 'Securities_Account', 'CD_Account',\n",
      "       'Online', 'CreditCard'],\n",
      "      dtype='object')\n"
     ]
    }
   ],
   "source": [
    "bank_df = dmba.load_data('UniversalBank.csv')\n",
    "bank_df.drop(columns=['ID', 'ZIP Code'], inplace=True)\n",
    "bank_df.columns = [c.replace(' ', '_') for c in bank_df.columns]\n",
    "print(bank_df.columns)"
   ]
  },
  {
   "cell_type": "code",
   "execution_count": 7,
   "id": "c518d67d-863d-4029-86e3-09ee1bbc5bb0",
   "metadata": {},
   "outputs": [
    {
     "name": "stdout",
     "output_type": "stream",
     "text": [
      "0                   Undergrad\n",
      "1                   Undergrad\n",
      "2                   Undergrad\n",
      "3                    Graduate\n",
      "4                    Graduate\n",
      "                ...          \n",
      "4995    Advanced/Professional\n",
      "4996                Undergrad\n",
      "4997    Advanced/Professional\n",
      "4998                 Graduate\n",
      "4999                Undergrad\n",
      "Name: Education, Length: 5000, dtype: category\n",
      "Categories (3, object): ['Undergrad', 'Graduate', 'Advanced/Professional']\n",
      "      Age  Experience  Income  Family  CCAvg              Education  Mortgage  \\\n",
      "0      25           1      49       4    1.6              Undergrad         0   \n",
      "1      45          19      34       3    1.5              Undergrad         0   \n",
      "2      39          15      11       1    1.0              Undergrad         0   \n",
      "3      35           9     100       1    2.7               Graduate         0   \n",
      "4      35           8      45       4    1.0               Graduate         0   \n",
      "...   ...         ...     ...     ...    ...                    ...       ...   \n",
      "4995   29           3      40       1    1.9  Advanced/Professional         0   \n",
      "4996   30           4      15       4    0.4              Undergrad        85   \n",
      "4997   63          39      24       2    0.3  Advanced/Professional         0   \n",
      "4998   65          40      49       3    0.5               Graduate         0   \n",
      "4999   28           4      83       3    0.8              Undergrad         0   \n",
      "\n",
      "      Personal_Loan  Securities_Account  CD_Account  Online  CreditCard  \n",
      "0                 0                   1           0       0           0  \n",
      "1                 0                   1           0       0           0  \n",
      "2                 0                   0           0       0           0  \n",
      "3                 0                   0           0       0           0  \n",
      "4                 0                   0           0       0           1  \n",
      "...             ...                 ...         ...     ...         ...  \n",
      "4995              0                   0           0       1           0  \n",
      "4996              0                   0           0       1           0  \n",
      "4997              0                   0           0       0           0  \n",
      "4998              0                   0           0       1           0  \n",
      "4999              0                   0           0       1           1  \n",
      "\n",
      "[5000 rows x 12 columns]\n"
     ]
    }
   ],
   "source": [
    "# Treat education as categorical, convert to dummy variables\n",
    "bank_df['Education'] = bank_df['Education'].astype('category')\n",
    "new_categories = {1: 'Undergrad', 2: 'Graduate', 3: 'Advanced/Professional'}\n",
    "\n",
    "education_cat = bank_df.Education.cat.rename_categories(new_categories)\n",
    "print(education_cat)\n",
    "bank_df.Education = education_cat\n",
    "print(bank_df)"
   ]
  },
  {
   "cell_type": "code",
   "execution_count": 8,
   "id": "d6123fe9",
   "metadata": {},
   "outputs": [
    {
     "name": "stdout",
     "output_type": "stream",
     "text": [
      "intercept  -12.493436061176814\n",
      "            Age  Experience    Income    Family     CCAvg  Mortgage  \\\n",
      "coeff -0.037685    0.039202  0.058844  0.612251  0.240489  0.001012   \n",
      "\n",
      "       Securities_Account  CD_Account    Online  CreditCard  \\\n",
      "coeff            -1.01428    3.649097 -0.678306   -0.958283   \n",
      "\n",
      "       Education_Graduate  Education_Advanced/Professional  \n",
      "coeff            4.202148                         4.355761  \n",
      "\n",
      "AIC -709.1524769205962\n"
     ]
    }
   ],
   "source": [
    "bank_df = pd.get_dummies(bank_df, prefix_sep='_', drop_first=True)\n",
    "\n",
    "y = bank_df['Personal_Loan']\n",
    "X = bank_df.drop(columns=['Personal_Loan'])\n",
    "\n",
    "# partition data\n",
    "train_X, valid_X, train_y, valid_y = train_test_split(X, y, test_size=0.4, random_state=1)\n",
    "\n",
    "# fit a logistic regression (set penalty=l2 and C=1e42 to avoid regularization)\n",
    "logit_reg = LogisticRegression(penalty=\"l2\", C=1e42, solver='liblinear')\n",
    "logit_reg.fit(train_X, train_y)\n",
    "\n",
    "print('intercept ', logit_reg.intercept_[0])\n",
    "print(pd.DataFrame({'coeff': logit_reg.coef_[0]}, index=X.columns).transpose())\n",
    "print()\n",
    "print('AIC', AIC_score(valid_y, logit_reg.predict(valid_X), df = len(train_X.columns) + 1))"
   ]
  },
  {
   "cell_type": "code",
   "execution_count": 3,
   "id": "98d9603b",
   "metadata": {},
   "outputs": [],
   "source": [
    "# Set to True to calculate logistic regression using Income only\n",
    "if False:\n",
    "    predictors = ['Income']\n",
    "    outcome = 'Personal_Loan'\n",
    "\n",
    "    y = bank_df[outcome]\n",
    "    X = bank_df[predictors]\n",
    "\n",
    "    # partition data\n",
    "    train_X, valid_X, train_y, valid_y = train_test_split(X, y, test_size=0.4, random_state=1)\n",
    "\n",
    "    # fit a logistic regression (set penalty=l2 and C=1e42 to avoid regularization)\n",
    "    logit_reg_income = LogisticRegression(penalty=\"l2\", C=1e42, solver='liblinear')\n",
    "    logit_reg_income.fit(train_X, train_y)\n",
    "\n",
    "    print('intercept ', logit_reg_income.intercept_[0])\n",
    "    print(pd.DataFrame({'coefficient': logit_reg_income.coef_[0]}, index=X.columns).transpose())\n",
    "    print()\n",
    "    print('AIC', AIC_score(valid_y, logit_reg_income.predict(valid_X), df = len(train_X.columns) + 1))"
   ]
  },
  {
   "cell_type": "code",
   "execution_count": 4,
   "id": "f1a9d809",
   "metadata": {},
   "outputs": [
    {
     "name": "stdout",
     "output_type": "stream",
     "text": [
      "      actual      p(0)      p(1)  predicted\n",
      "2764       0  0.976092  0.023908          0\n",
      "932        0  0.330986  0.669014          1\n",
      "2721       1  0.031431  0.968569          1\n",
      "702        1  0.985893  0.014107          0\n"
     ]
    }
   ],
   "source": [
    "logit_reg_pred = logit_reg.predict(valid_X)\n",
    "logit_reg_proba = logit_reg.predict_proba(valid_X)\n",
    "logit_result = pd.DataFrame({'actual': valid_y, \n",
    "                             'p(0)': [p[0] for p in logit_reg_proba],\n",
    "                             'p(1)': [p[1] for p in logit_reg_proba],\n",
    "                             'predicted': logit_reg_pred })\n",
    "\n",
    "# display four different cases\n",
    "interestingCases = [2764, 932, 2721, 702]\n",
    "print(logit_result.loc[interestingCases])"
   ]
  },
  {
   "cell_type": "markdown",
   "id": "ed164187",
   "metadata": {},
   "source": [
    "## Table 10.4"
   ]
  },
  {
   "cell_type": "code",
   "execution_count": 5,
   "id": "eca64a1f",
   "metadata": {},
   "outputs": [
    {
     "name": "stdout",
     "output_type": "stream",
     "text": [
      "Confusion Matrix (Accuracy 0.9600)\n",
      "\n",
      "       Prediction\n",
      "Actual    0    1\n",
      "     0 2683   30\n",
      "     1   90  197\n",
      "Confusion Matrix (Accuracy 0.9595)\n",
      "\n",
      "       Prediction\n",
      "Actual    0    1\n",
      "     0 1791   16\n",
      "     1   65  128\n"
     ]
    }
   ],
   "source": [
    "classificationSummary(train_y, logit_reg.predict(train_X))\n",
    "classificationSummary(valid_y, logit_reg.predict(valid_X))"
   ]
  },
  {
   "cell_type": "markdown",
   "id": "5fbdfa86",
   "metadata": {},
   "source": [
    "## Figure 10.3"
   ]
  },
  {
   "cell_type": "code",
   "execution_count": 6,
   "id": "ee89f50a",
   "metadata": {},
   "outputs": [
    {
     "data": {
      "image/png": "[encoded data removed]",
      "text/plain": [
       "<Figure size 720x288 with 2 Axes>"
      ]
     },
     "metadata": {
      "needs_background": "light"
     },
     "output_type": "display_data"
    }
   ],
   "source": [
    "df = logit_result.sort_values(by=['p(1)'], ascending=False)\n",
    "fig, axes = plt.subplots(nrows=1, ncols=2, figsize=(10, 4))\n",
    "\n",
    "gainsChart(df.actual, ax=axes[0])\n",
    "liftChart(df.actual, title=False, ax=axes[1])\n",
    "    \n",
    "plt.tight_layout()\n",
    "plt.show()"
   ]
  },
  {
   "cell_type": "code",
   "execution_count": null,
   "id": "a90cb574",
   "metadata": {},
   "outputs": [],
   "source": []
  }
 ],
 "metadata": {
  "kernelspec": {
   "display_name": "Python 3 (ipykernel)",
   "language": "python",
   "name": "python3"
  },
  "language_info": {
   "codemirror_mode": {
    "name": "ipython",
    "version": 3
   },
   "file_extension": ".py",
   "mimetype": "text/x-python",
   "name": "python",
   "nbconvert_exporter": "python",
   "pygments_lexer": "ipython3",
   "version": "3.10.8"
  }
 },
 "nbformat": 4,
 "nbformat_minor": 5
}
